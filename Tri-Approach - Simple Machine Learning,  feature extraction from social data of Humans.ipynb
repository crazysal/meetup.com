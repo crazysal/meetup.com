{
 "cells": [
  {
   "cell_type": "markdown",
   "metadata": {
    "collapsed": true
   },
   "source": [
    "#### Use Env : Base , NLTK not installed in tensorflow env of conda "
   ]
  },
  {
   "cell_type": "code",
   "execution_count": 6,
   "metadata": {},
   "outputs": [
    {
     "ename": "ImportError",
     "evalue": "No module named 'nltk'",
     "output_type": "error",
     "traceback": [
      "\u001b[1;31m---------------------------------------------------------------------------\u001b[0m",
      "\u001b[1;31mImportError\u001b[0m                               Traceback (most recent call last)",
      "\u001b[1;32m<ipython-input-6-bbe6d237677d>\u001b[0m in \u001b[0;36m<module>\u001b[1;34m()\u001b[0m\n\u001b[0;32m      1\u001b[0m \u001b[1;32mimport\u001b[0m \u001b[0mstring\u001b[0m\u001b[1;33m\u001b[0m\u001b[0m\n\u001b[1;32m----> 2\u001b[1;33m \u001b[1;32mimport\u001b[0m \u001b[0mnltk\u001b[0m\u001b[1;33m\u001b[0m\u001b[0m\n\u001b[0m\u001b[0;32m      3\u001b[0m \u001b[1;32mfrom\u001b[0m \u001b[0mnltk\u001b[0m\u001b[1;33m.\u001b[0m\u001b[0mcorpus\u001b[0m \u001b[1;32mimport\u001b[0m \u001b[0mstopwords\u001b[0m \u001b[1;32mas\u001b[0m \u001b[0msw\u001b[0m\u001b[1;33m\u001b[0m\u001b[0m\n\u001b[0;32m      4\u001b[0m \u001b[1;32mfrom\u001b[0m \u001b[0mnltk\u001b[0m\u001b[1;33m.\u001b[0m\u001b[0mcorpus\u001b[0m \u001b[1;32mimport\u001b[0m \u001b[0mwordnet\u001b[0m \u001b[1;32mas\u001b[0m \u001b[0mwn\u001b[0m\u001b[1;33m\u001b[0m\u001b[0m\n\u001b[0;32m      5\u001b[0m \u001b[1;32mfrom\u001b[0m \u001b[0mnltk\u001b[0m \u001b[1;32mimport\u001b[0m \u001b[0mwordpunct_tokenize\u001b[0m\u001b[1;33m\u001b[0m\u001b[0m\n",
      "\u001b[1;31mImportError\u001b[0m: No module named 'nltk'"
     ]
    }
   ],
   "source": [
    "import string\n",
    "import nltk \n",
    "from nltk.corpus import stopwords as sw\n",
    "from nltk.corpus import wordnet as wn\n",
    "from nltk import wordpunct_tokenize\n",
    "from nltk import WordNetLemmatizer\n",
    "from nltk import sent_tokenize\n",
    "from nltk import pos_tag\n",
    "from sklearn.base import BaseEstimator, TransformerMixin"
   ]
  },
  {
   "cell_type": "code",
   "execution_count": 20,
   "metadata": {
    "collapsed": true
   },
   "outputs": [],
   "source": [
    "import csv\n",
    "import numpy as np\n",
    "import gc\n",
    "gc.collect()\n",
    "reader = csv.reader(open(\"./meetup_sane.csv\"), delimiter=\",\")\n",
    "meetup = list(reader) "
   ]
  },
  {
   "cell_type": "markdown",
   "metadata": {},
   "source": [
    "#### Define the Text Computation Pre Processor Class\n",
    "###### The transform method \n",
    "takes a list of documents (given as the variable, X) and returns a new list of tokenized documents, where each document is transformed into list of ordered tokens.\n",
    "    \n",
    "###### The tokenize method \n",
    "breaks raw strings into sentences, then breaks those sentences into words and punctuation, \n",
    "and applies a part of speech tag. The token is then normalized: made lower case,\n",
    "then stripped of whitespace and other types of punctuation that may be appended. \n",
    "If the token is a stopword or if every character is punctuation, the token is ignored. \n",
    "If it is not ignored, the part of speech is used to lemmatize the token, which is then yielded\n",
    "\n",
    "                \n",
    "###### The Lemmatization method \n",
    "is the process of looking up a single word form from the variety of morphologic affixes that can be applied to indicate tense, plurality, gender, etc. First we need to identify the WordNet tag form based on the Penn Treebank tag, which is returned from NLTK’s standard pos_tag function. \n",
    "We simply look to see if the Penn tag starts with ‘N’, ‘V’, ‘R’, or ‘J’ and can correctly identify if its a noun, verb, adverb, or adjective. We then use the new tag to look up the lemma in the lexicon."
   ]
  },
  {
   "cell_type": "code",
   "execution_count": 5,
   "metadata": {},
   "outputs": [
    {
     "ename": "NameError",
     "evalue": "name 'BaseEstimator' is not defined",
     "output_type": "error",
     "traceback": [
      "\u001b[1;31m---------------------------------------------------------------------------\u001b[0m",
      "\u001b[1;31mNameError\u001b[0m                                 Traceback (most recent call last)",
      "\u001b[1;32m<ipython-input-5-bcf009ce39a0>\u001b[0m in \u001b[0;36m<module>\u001b[1;34m()\u001b[0m\n\u001b[1;32m----> 1\u001b[1;33m \u001b[1;32mclass\u001b[0m \u001b[0mNLTKPreprocessor\u001b[0m\u001b[1;33m(\u001b[0m\u001b[0mBaseEstimator\u001b[0m\u001b[1;33m,\u001b[0m \u001b[0mTransformerMixin\u001b[0m\u001b[1;33m)\u001b[0m\u001b[1;33m:\u001b[0m\u001b[1;33m\u001b[0m\u001b[0m\n\u001b[0m\u001b[0;32m      2\u001b[0m \u001b[1;33m\u001b[0m\u001b[0m\n\u001b[0;32m      3\u001b[0m     def __init__(self, stopwords=None, punct=None,\n\u001b[0;32m      4\u001b[0m                  lower=True, strip=True):\n\u001b[0;32m      5\u001b[0m         \u001b[0mself\u001b[0m\u001b[1;33m.\u001b[0m\u001b[0mlower\u001b[0m      \u001b[1;33m=\u001b[0m \u001b[0mlower\u001b[0m\u001b[1;33m\u001b[0m\u001b[0m\n",
      "\u001b[1;31mNameError\u001b[0m: name 'BaseEstimator' is not defined"
     ]
    }
   ],
   "source": [
    "class NLTKPreprocessor(BaseEstimator, TransformerMixin):\n",
    "\n",
    "    def __init__(self, stopwords=None, punct=None,\n",
    "                 lower=True, strip=True):\n",
    "        self.lower      = lower\n",
    "        self.strip      = strip\n",
    "        self.stopwords  = stopwords or set(sw.words('english'))\n",
    "        self.punct      = punct or set(string.punctuation)\n",
    "        self.lemmatizer = WordNetLemmatizer()\n",
    "\n",
    "    def fit(self, X, y=None):\n",
    "        return self\n",
    "\n",
    "    def inverse_transform(self, X):\n",
    "        return [\" \".join(doc) for doc in X]\n",
    "    \n",
    "    def transform(self, X):\n",
    "        return [\n",
    "            list(self.tokenize(doc)) for doc in X\n",
    "        ]\n",
    "\n",
    "    def tokenize(self, document):\n",
    "        # Break the document into sentences\n",
    "        for sent in sent_tokenize(document):\n",
    "            # Break the sentence into part of speech tagged tokens\n",
    "            for token, tag in pos_tag(wordpunct_tokenize(sent)):\n",
    "                # Apply preprocessing to the token\n",
    "                token = token.lower() if self.lower else token\n",
    "                token = token.strip() if self.strip else token\n",
    "                token = token.strip('_') if self.strip else token\n",
    "                token = token.strip('*') if self.strip else token\n",
    "\n",
    "                # If stopword, ignore token and continue\n",
    "                if token in self.stopwords:\n",
    "                    continue\n",
    "\n",
    "                # If punctuation, ignore token and continue\n",
    "                if all(char in self.punct for char in token):\n",
    "                    continue\n",
    "\n",
    "                # Lemmatize the token and yield\n",
    "                lemma = self.lemmatize(token, tag)\n",
    "                yield lemma\n",
    "                \n",
    "    def lemmatize(self, token, tag):\n",
    "        tag = {\n",
    "            'N': wn.NOUN,\n",
    "            'V': wn.VERB,\n",
    "            'R': wn.ADV,\n",
    "            'J': wn.ADJ\n",
    "        }.get(tag[0], wn.NOUN)\n",
    "\n",
    "        return self.lemmatizer.lemmatize(token, tag)\n"
   ]
  },
  {
   "cell_type": "markdown",
   "metadata": {},
   "source": [
    "#### Build and Evaluate\n",
    "###### The Build Method  \n",
    "- takes a classifier class or instance (if given a class, it instantiates the classifier with the defaults) and creates the pipeline with that classifier and fits it. \n",
    "- The function times the build process, evaluates it via the classification report that reports precision, recall, and F1. \n",
    "- Then builds a new model on the complete dataset and writes it out to disk\n",
    "\n",
    "*Note that when using the TfidfVectorizer you must make sure that its default preprocessor, normalizer, and tokenizer are all turned off using the identity function and passing None to the other parameters.*"
   ]
  },
  {
   "cell_type": "code",
   "execution_count": 251,
   "metadata": {
    "collapsed": true
   },
   "outputs": [],
   "source": [
    "# decorator function to time functions\n",
    "import time \n",
    "def timeit(method):\n",
    "    def timed(*args, **kw):\n",
    "        ts = time.time()\n",
    "        result = method(*args, **kw)\n",
    "        te = time.time() - ts\n",
    "#         print('[TimeIt] func: \"{}\" run in {}s'.format(method.__name__, te - ts))\n",
    "        return result, te \n",
    "    return timed"
   ]
  },
  {
   "cell_type": "code",
   "execution_count": 1,
   "metadata": {},
   "outputs": [
    {
     "name": "stderr",
     "output_type": "stream",
     "text": [
      "C:\\Users\\salee\\Anaconda3\\envs\\tensorflow\\lib\\site-packages\\sklearn\\cross_validation.py:41: DeprecationWarning: This module was deprecated in version 0.18 in favor of the model_selection module into which all the refactored classes and functions are moved. Also note that the interface of the new CV iterators are different from that of this module. This module will be removed in 0.20.\n",
      "  \"This module will be removed in 0.20.\", DeprecationWarning)\n"
     ]
    },
    {
     "ename": "NameError",
     "evalue": "name 'timeit' is not defined",
     "output_type": "error",
     "traceback": [
      "\u001b[1;31m---------------------------------------------------------------------------\u001b[0m",
      "\u001b[1;31mNameError\u001b[0m                                 Traceback (most recent call last)",
      "\u001b[1;32m<ipython-input-1-1f4d3b0b0227>\u001b[0m in \u001b[0;36m<module>\u001b[1;34m()\u001b[0m\n\u001b[0;32m     10\u001b[0m     \u001b[1;32mreturn\u001b[0m \u001b[0mx\u001b[0m\u001b[1;33m\u001b[0m\u001b[0m\n\u001b[0;32m     11\u001b[0m \u001b[1;33m\u001b[0m\u001b[0m\n\u001b[1;32m---> 12\u001b[1;33m \u001b[1;33m@\u001b[0m\u001b[0mtimeit\u001b[0m\u001b[1;33m\u001b[0m\u001b[0m\n\u001b[0m\u001b[0;32m     13\u001b[0m \u001b[1;32mdef\u001b[0m \u001b[0mbuild_and_evaluate\u001b[0m\u001b[1;33m(\u001b[0m\u001b[0mX\u001b[0m\u001b[1;33m,\u001b[0m \u001b[0my\u001b[0m\u001b[1;33m,\u001b[0m \u001b[0mclassifier\u001b[0m\u001b[1;33m=\u001b[0m\u001b[0mSGDClassifier\u001b[0m\u001b[1;33m,\u001b[0m \u001b[0moutpath\u001b[0m\u001b[1;33m=\u001b[0m\u001b[1;32mNone\u001b[0m\u001b[1;33m,\u001b[0m \u001b[0mverbose\u001b[0m\u001b[1;33m=\u001b[0m\u001b[1;32mTrue\u001b[0m\u001b[1;33m)\u001b[0m\u001b[1;33m:\u001b[0m\u001b[1;33m\u001b[0m\u001b[0m\n\u001b[0;32m     14\u001b[0m \u001b[1;33m\u001b[0m\u001b[0m\n",
      "\u001b[1;31mNameError\u001b[0m: name 'timeit' is not defined"
     ]
    }
   ],
   "source": [
    "import pickle \n",
    "from sklearn.pipeline import Pipeline\n",
    "from sklearn.preprocessing import LabelEncoder\n",
    "from sklearn.linear_model import SGDClassifier\n",
    "from sklearn.metrics import classification_report as clsr\n",
    "from sklearn.feature_extraction.text import TfidfVectorizer\n",
    "from sklearn.cross_validation import train_test_split as tts\n",
    "\n",
    "def identity(x):\n",
    "    return x\n",
    "\n",
    "@timeit\n",
    "def build_and_evaluate(X, y, classifier=SGDClassifier, outpath=None, verbose=True):\n",
    "\n",
    "    @timeit\n",
    "    def build(classifier, X, y=None):\n",
    "        \"\"\"\n",
    "        Inner build function that builds a single model.\n",
    "        \"\"\"\n",
    "        if isinstance(classifier, type):\n",
    "            classifier = classifier()\n",
    "\n",
    "        model = Pipeline([\n",
    "            ('preprocessor', NLTKPreprocessor()),\n",
    "            ('vectorizer', TfidfVectorizer(\n",
    "                tokenizer=identity, preprocessor=None, lowercase=False\n",
    "            )),\n",
    "            ('classifier', classifier),\n",
    "        ])\n",
    "\n",
    "        model.fit(X, y)\n",
    "        return model\n",
    "\n",
    "    # Label encode the targets\n",
    "    labels = LabelEncoder()\n",
    "    y = labels.fit_transform(y)\n",
    "\n",
    "    # Begin evaluation\n",
    "    if verbose: \n",
    "        print(\"Building for evaluation\")\n",
    "        \n",
    "    X_train, X_test, y_train, y_test = tts(X, y, test_size=0.2)\n",
    "    model,secs = build(classifier, X_train, y_train)\n",
    "    \n",
    "    if verbose:\n",
    "        print(\"Evaluation test model fit in {:0.3f} seconds\".format(secs))\n",
    "        print(\"Classification Report:\\n\")\n",
    "\n",
    "    y_pred = model.predict(X_test)\n",
    "    print(clsr(y_test, y_pred, target_names=labels.classes_))\n",
    "\n",
    "    if verbose:\n",
    "        print(\"Building complete model and saving ...\")\n",
    "    model, secs = build(classifier, X, y)\n",
    "    model.labels_ = labels\n",
    "\n",
    "    if verbose:\n",
    "        print(\"Complete model fit in {:0.3f} seconds\".format(secs))\n",
    "        \n",
    "\n",
    "    if outpath:\n",
    "        with open(outpath, 'wb') as f:\n",
    "            pickle.dump(model, f)\n",
    "\n",
    "        print(\"Model written out to {}\".format(outpath))\n",
    "\n",
    "    return model\n"
   ]
  },
  {
   "cell_type": "code",
   "execution_count": 74,
   "metadata": {
    "collapsed": true
   },
   "outputs": [
    {
     "name": "stdout",
     "output_type": "stream",
     "text": [
      "[nltk_data] Downloading package stopwords to\n",
      "[nltk_data]     C:\\Users\\salee\\AppData\\Roaming\\nltk_data...\n",
      "[nltk_data]   Package stopwords is already up-to-date!\n",
      "[nltk_data] Downloading package punkt to\n",
      "[nltk_data]     C:\\Users\\salee\\AppData\\Roaming\\nltk_data...\n",
      "[nltk_data]   Unzipping tokenizers\\punkt.zip.\n"
     ]
    },
    {
     "data": {
      "text/plain": [
       "True"
      ]
     },
     "execution_count": 74,
     "metadata": {},
     "output_type": "execute_result"
    }
   ],
   "source": [
    "nltk.download('stopwords')\n",
    "nltk.download('punkt')"
   ]
  },
  {
   "cell_type": "code",
   "execution_count": 76,
   "metadata": {
    "collapsed": true
   },
   "outputs": [
    {
     "name": "stdout",
     "output_type": "stream",
     "text": [
      "[nltk_data] Downloading package averaged_perceptron_tagger to\n",
      "[nltk_data]     C:\\Users\\salee\\AppData\\Roaming\\nltk_data...\n",
      "[nltk_data]   Unzipping taggers\\averaged_perceptron_tagger.zip.\n"
     ]
    },
    {
     "data": {
      "text/plain": [
       "True"
      ]
     },
     "execution_count": 76,
     "metadata": {},
     "output_type": "execute_result"
    }
   ],
   "source": [
    "nltk.download('averaged_perceptron_tagger')"
   ]
  },
  {
   "cell_type": "code",
   "execution_count": 78,
   "metadata": {
    "collapsed": true
   },
   "outputs": [
    {
     "name": "stdout",
     "output_type": "stream",
     "text": [
      "[nltk_data] Downloading package wordnet to\n",
      "[nltk_data]     C:\\Users\\salee\\AppData\\Roaming\\nltk_data...\n",
      "[nltk_data]   Unzipping corpora\\wordnet.zip.\n"
     ]
    },
    {
     "data": {
      "text/plain": [
       "True"
      ]
     },
     "execution_count": 78,
     "metadata": {},
     "output_type": "execute_result"
    }
   ],
   "source": [
    "nltk.download('wordnet')"
   ]
  },
  {
   "cell_type": "markdown",
   "metadata": {},
   "source": [
    "\n",
    "###### The next stage is to create the pipeline, train a classifier, then to evaluate it\n",
    "- The model is split into a training and testing set by shuffling the data\n",
    "- The model is trained on the training set, and evaluated on testing.\n",
    "- A new model is then fit on all of the data and saved to disk."
   ]
  },
  {
   "cell_type": "markdown",
   "metadata": {},
   "source": [
    "##### Concatenating textual data from groups and events  "
   ]
  },
  {
   "cell_type": "code",
   "execution_count": 252,
   "metadata": {
    "collapsed": true
   },
   "outputs": [],
   "source": [
    "mp = meetup[1:]\n",
    "meetup_df = pd.DataFrame(mp, columns=meetup[0])\n",
    "meetup_df['event_X'] = meetup_df['group_name'].map(str) +\" \" +  meetup_df['category_name'].map(str) +' ' +meetup_df['venue_name'].map(str) +\" \" + meetup_df['group_description'].map(str) +\" \" +  meetup_df['event_description'].map(str)+\" \" +  meetup_df['bio'].map(str)      \n",
    "event_X = meetup_df.as_matrix(['event_X']).ravel() \n",
    "event_Y = meetup_df.as_matrix(['event_name']).ravel()"
   ]
  },
  {
   "cell_type": "code",
   "execution_count": 253,
   "metadata": {
    "collapsed": true
   },
   "outputs": [
    {
     "name": "stdout",
     "output_type": "stream",
     "text": [
      "Building for evaluation\n",
      "Evaluation model fit in 1134.891 seconds\n",
      "Classification Report:\n",
      "\n"
     ]
    },
    {
     "name": "stderr",
     "output_type": "stream",
     "text": [
      "C:\\Users\\salee\\Anaconda3\\lib\\site-packages\\sklearn\\metrics\\classification.py:1113: UndefinedMetricWarning: Precision and F-score are ill-defined and being set to 0.0 in labels with no predicted samples.\n",
      "  'precision', 'predicted', average, warn_for)\n",
      "C:\\Users\\salee\\Anaconda3\\lib\\site-packages\\sklearn\\metrics\\classification.py:1115: UndefinedMetricWarning: Recall and F-score are ill-defined and being set to 0.0 in labels with no true samples.\n",
      "  'recall', 'true', average, warn_for)\n"
     ]
    },
    {
     "name": "stdout",
     "output_type": "stream",
     "text": [
      "                                                                                  precision    recall  f1-score   support\n",
      "\n",
      "                100% discount! Kintone Connect Digital Transformation Conference       1.00      1.00      1.00        12\n",
      "    101: How to do Assignments, Back-2-Back, Selling LLC's & All Closing Secrets       0.00      0.00      0.00         0\n",
      "                                                            11/12 Live Art Event       0.00      0.00      0.00         1\n",
      "                                               2017 Behavioral Finance Symposium       0.00      0.00      0.00         1\n",
      "     3DHEALS 2018 Global Healthcare 3D Printing Conference: Ecosystem Innovation       1.00      1.00      1.00       128\n",
      "                                                      3rd Fridays: An Art Event!       1.00      1.00      1.00        12\n",
      "                                  40 & Over Annual HALLOWEEN Party (Prepay Only)       1.00      1.00      1.00        11\n",
      "                                                40 & Over Halloween Mingle Mixer       1.00      1.00      1.00         1\n",
      "                                              5 Keys to Manifestation (workshop)       1.00      1.00      1.00         3\n",
      "                      50% Off - Blockchain Economic Forum in New York 10/31-11/1       0.00      0.00      0.00         1\n",
      "                                                   50+ Job Search Strategy Group       0.91      1.00      0.95        10\n",
      "                                                62) Rebecca by Daphne Du Maurier       1.00      1.00      1.00         1\n",
      "                    80s & 90s Trivia Meetup - Music, Movies, TV, Sports, Culture       0.00      0.00      0.00         1\n",
      "                     80s & 90s Trivia Night (Movies, Music, TV, Sports, Culture)       1.00      1.00      1.00         1\n",
      "                                   A Confederacy of Dunces by John Kennedy Toole       1.00      1.00      1.00         1\n",
      "                                    A Fix of Ink: Poetry Reading with Live Music       1.00      1.00      1.00         1\n",
      "                ACCELERATE WORKSHOP NYC 2017: The Science of Scaling Efficiently       1.00      1.00      1.00         2\n",
      "                                            AMA SF & PRSA Holiday Party @ Monroe       1.00      1.00      1.00         1\n",
      "                                                AMA SF Social Event @ Il Fornaio       1.00      1.00      1.00        42\n",
      "     AUSTRALIA DAY PARTY & Sausage Sizzle! $3 Beer/Wine, TRIPLE J, Aussie Games!       1.00      1.00      1.00        13\n",
      "                                                                     Alvin Ailey       1.00      1.00      1.00         1\n",
      "                                         Applications for GENIUS NY 2.0 Now Open       1.00      1.00      1.00         1\n",
      "                                            Arabian Nights: Tales of 1001 Nights       0.00      0.00      0.00         1\n",
      "                           Asian Night - Pitch Event by Promising Asian Startups       1.00      1.00      1.00        17\n",
      "                                                       Astrology and Your Health       1.00      1.00      1.00        52\n",
      "            Augmenting Humanity for the AI Era - THE NEW CONTEXT CONFERENCE 2017       1.00      1.00      1.00         2\n",
      "                 Author Event at Story Time: Through with the Zoo by Jacob Grant       1.00      1.00      1.00         3\n",
      "                                          Author Event: Abraham by Daniel Backer       0.33      1.00      0.50         2\n",
      "                                           Author Event: Jac Jemc and Kim O'Neil       1.00      1.00      1.00        11\n",
      "                            Author Event: Refocusing My Family by Amber Cantorna       0.86      1.00      0.92        12\n",
      "    Author Event: Sticky Fingers by Joe Hagan in Conversation with Kelly Leonard       1.00      1.00      1.00         7\n",
      "                                   Autumn Wine Tasting Social w/ Comp Appetizers       1.00      1.00      1.00        35\n",
      "                                                       BNC Venture Capital Group       1.00      1.00      1.00         1\n",
      "                                                   BNI Chapter 56 Weekly Meeting       1.00      1.00      1.00         8\n",
      "              BSC Partner Event: Emerging Trends in CSR - Cause Marketing (Paid)       1.00      1.00      1.00         6\n",
      "                                                          Be a Top FIGURE Model!       1.00      1.00      1.00        37\n",
      "                                     Be in Ragtime for FUN! NO AUDITION REQUIRED       1.00      1.00      1.00         8\n",
      "                                            Biblio Bistro at the Farmers' Market       1.00      1.00      1.00       128\n",
      "  Board Game Battle (Cards Against Humanity, Taboo, Charades, Jenga, Pictionary)       1.00      1.00      1.00        62\n",
      "                                Book Launch: Alone on the Shield by Kirk Landers       0.00      0.00      0.00         0\n",
      "  Book Release: The Blue Silence by Tim Chapman in Conversation with D.M Pirrone       1.00      0.93      0.96        54\n",
      "                                                       Breakfast Club (downtown)       1.00      1.00      1.00        11\n",
      "          Breathing Ecstasy: Tantric and Taoist (MCO-meditation etc)  Breathwork       1.00      1.00      1.00         8\n",
      "           Bring your tech startup idea to life at ProtoHack (without any code!)       1.00      1.00      1.00         3\n",
      "                     Build Authentication, Email, Website and API with Adonis.js       1.00      1.00      1.00         4\n",
      "                                        Business Card to Business Monthly Meetup       1.00      1.00      1.00         2\n",
      "                                    Business Networking for Professional Success       1.00      1.00      1.00        11\n",
      "                 CANCELLED for summer Figure Drawing 7-9PM in Studio #223 (BYOB)       1.00      1.00      1.00       503\n",
      "                                                          CO-WORKING for WRITERS       0.50      1.00      0.67         1\n",
      "                                     CO-WORKING | Edgewater & East Andersonville       0.82      1.00      0.90         9\n",
      "                            CONVERSATION DAY: A Global Celebration of Great Talk       1.00      1.00      1.00         2\n",
      "      Calling All ART-PRENEURS! Meetup at the Resource & Career Fair on Nov 3rd!       1.00      1.00      1.00         6\n",
      "         Cancelled for the summer Figure Drawing 3:30-5:30 in Studio #223 (BYOB)       1.00      1.00      1.00        24\n",
      "                                                  Careers in International Trade       1.00      1.00      1.00         1\n",
      "                                Central Park Fall Scavenger Hunt *PRE-PAY EVENT*       1.00      1.00      1.00         1\n",
      "                                     Chatbot Powered by the Open Innovation Club       1.00      1.00      1.00         3\n",
      "             Chicago Founder Night Out - Entrepreneur Networking, Drinks, & Fun!       1.00      1.00      1.00         3\n",
      "      Chicago Sinfonietta: Regressar /Revisit - A Dia de Los Muertos Celebration       1.00      1.00      1.00        13\n",
      "                                                                  Chili Cook Off       1.00      1.00      1.00        10\n",
      "                                                             Coding Drop- In Lab       1.00      1.00      1.00         1\n",
      "                                                                     Coffee Hour       1.00      1.00      1.00         6\n",
      "                                                      Coffee and learning design       1.00      1.00      1.00        10\n",
      "                                                 Come hang out with us and draw!       0.00      0.00      0.00         0\n",
      "                                     Communication Enhancement with Chuck Garcia       0.00      0.00      0.00         1\n",
      "                                               Competitive Edge Innovation Mixer       1.00      1.00      1.00         8\n",
      "           Complimentary Coworking Day at Serendipity Labs (RSVP Via Eventbrite)       1.00      1.00      1.00        13\n",
      "                        Conference: Data Science in Finance, The Final Frontier?       1.00      1.00      1.00         2\n",
      "                          Conversation and Presentation with Scout Expedition Co       1.00      1.00      1.00       464\n",
      " Coriolanus: Dramatic Reading at Newberry Library by Shakespeare Project/Chicago       1.00      1.00      1.00       469\n",
      "   Creating a Powerful First Impression - Resume, Interview, Networking & Beyond       1.00      1.00      1.00         3\n",
      "                                  Creating and Launching your Business - Lecture       1.00      1.00      1.00         1\n",
      "                                                    Crownmasters Club Open House       1.00      1.00      1.00         2\n",
      "                                                              Dare Mighty Things       0.00      0.00      0.00         1\n",
      "                           Dave Cervini's 1980's Rockin' Radio Show & Happy Hour       0.67      1.00      0.80         2\n",
      "                        Dave's Haunted Halloween Happy Hour and House of Horrors       1.00      1.00      1.00         3\n",
      "        Dec: 3rd Holiday ReMix Chicago - Recycled Materials Art & Our Xmas Party       1.00      1.00      1.00        11\n",
      "                                December NY FinTech Meetup: Ditch the FICO Score       1.00      1.00      1.00         3\n",
      "                                                   December SF FinTech Demo Day!       1.00      1.00      1.00        34\n",
      "                        December Special: Swing Trading Using the Wyckoff Method       0.12      1.00      0.22         1\n",
      "                                  December's book club meeting and book exchange       1.00      1.00      1.00       271\n",
      "                                                 Design Happy Hour: Envelope A+D       1.00      1.00      1.00        52\n",
      "                                      Design and Direct Your Job Search Strategy       1.00      1.00      1.00        54\n",
      "              Digital Privacy and Security - A Beginner-to-Intermediate Workshop       1.00      1.00      1.00       150\n",
      "                                    Dinner, Comedy Show, 100 Beers & Debauchery!       0.00      0.00      0.00         1\n",
      "                                         Dinner, Comedy, 100 Beers & Debauchery!       1.00      1.00      1.00         2\n",
      "                                   Dive Into D3: An Intro to Visual Data Display       1.00      1.00      1.00         5\n",
      "       Don't miss out on personalized meetings with the worlds top MBA programs!       1.00      1.00      1.00        13\n",
      "                          Dr. Sketchy's San Francisco Presents Cobra 1st Legion!       1.00      1.00      1.00        11\n",
      "                                          Drawing, Geeking out and Super Heroes!       1.00      1.00      1.00         4\n",
      "                               Drinks and Dancing at Soundbar Every Friday Night       1.00      1.00      1.00        14\n",
      "                             Drinks and Dancing at Soundbar Every Saturday Night       1.00      1.00      1.00         2\n",
      "                                             Drinks with International Travelers       1.00      1.00      1.00         6\n",
      "Duly Noted - A Musical Improv Jam at The Playground - Learn and Play for Only $5       1.00      1.00      1.00         4\n",
      "                                Dynamo: Practical Little Scripts with Big Impact       0.92      1.00      0.96        12\n",
      "                 Elevate Your Networking and Have a Great time at I/O Roofscape!       1.00      1.00      1.00         2\n",
      "                                       Elevate Your Networking at I/O Roofscape!       1.00      1.00      1.00         1\n",
      "                                                           Embarcadero Promenade       1.00      1.00      1.00        49\n",
      "                       Encryption Apps for your Phone - An Intermediate Workshop       1.00      1.00      1.00        58\n",
      "Enhanced Design: How to Utilize the Full Palate of Digital Tools; joint with CSI       1.00      1.00      1.00        32\n",
      "                     Entrepreneur Growth Opportunities - Brown Bag Lunch & Learn       0.00      0.00      0.00         1\n",
      "                                      Entrepreneurs Happy Hour! $3.00 Admission!       0.83      1.00      0.91         5\n",
      "Establishing & Protecting Your Professional Reputation PWN Monthly Lunch & Learn       1.00      1.00      1.00         1\n",
      "                                                Exclusive Referral Group Meeting       0.91      1.00      0.95        10\n",
      "                                 Exclusive Referral Group Meeting - 1st Tuesdays       1.00      1.00      1.00         4\n",
      "              Exclusive Referral Group Meeting - Business Owners & Professionals       1.00      1.00      1.00         1\n",
      "                         Exclusive Referral Group Meeting - Business Owners Only       0.00      0.00      0.00         1\n",
      "                  Exploring Employment with the City and County of San Francisco       1.00      1.00      1.00       112\n",
      "                                          FILM: Stefan Zweig: Farewell to Europe       1.00      1.00      1.00        17\n",
      "                       FREE !! Holistic Speakers' Series & Business Networking !       0.33      1.00      0.50         1\n",
      "                                FREE !! Holistic Speakers' Series in Manhattan !       0.00      0.00      0.00         2\n",
      "    FREE EVENT: Walk 1hour at Hudson River Park, Meet New Friends from 10 Groups       0.91      1.00      0.95        10\n",
      "                          FREE Evening TeleClass w/ Trish Carr - *WOW* Wednesday       0.00      0.00      0.00         1\n",
      "                        FREE NYC Flippers & Funders Real Estate Networking Event       1.00      1.00      1.00         9\n",
      "                               FREE Tele-Class w/Nancy Matthewss *WOW Wednesday*       1.00      1.00      1.00        39\n",
      "                                  FREE!! Holiday Networking & Speakers' Series !       1.00      1.00      1.00         6\n",
      "                       FREE!! Speakers' Series & Holistic Networking in New York       1.00      1.00      1.00         2\n",
      "                                   FREE!! Winter Speakers' Series in Manhattan !       1.00      1.00      1.00         6\n",
      "                                     Fall Wine Tasting Social w/ Comp Appetizers       0.86      1.00      0.92         6\n",
      "                                             Faust by Johann Wolfgang von Goethe       1.00      1.00      1.00        18\n",
      "                 February Meetup: The Ministry of Utmost Happiness Arundhati Roy       1.00      1.00      1.00         1\n",
      "                                      FiDi Toastmasters - SF Financial District!       0.00      0.00      0.00         3\n",
      "                             Figure Drawing  in Studio #223 CANCELLED for summer       1.00      1.00      1.00         6\n",
      "                                             Figure Drawing and Ceramic Painting       0.92      1.00      0.96        11\n",
      "                            Figure Painting and Drawing at Earthfire Arts Studio       1.00      1.00      1.00         5\n",
      "Final Fall HIke at Lake Minnewaska/Awosting Falls & Winery Visit *PRE-PAY EVENT*       1.00      1.00      1.00         1\n",
      "Final Fall Hike at Lake Minnewaska/Awosting Falls & Winery Visit *PRE-PAY EVENT*       0.00      0.00      0.00         7\n",
      "                                                      Fintech Australia Showcase       1.00      1.00      1.00         2\n",
      "   Fireman/EMT Mixer - Meet & Mingle w/ NY Bravest! (Comp Apps & Drink Specials)       1.00      1.00      1.00         6\n",
      "                                                  First Fridays - Free Coworking       1.00      1.00      1.00         5\n",
      "                                            Flipping and Building Over 700 Homes       1.00      1.00      1.00         7\n",
      "                                   Florida Investing: Cash Flow and Appreciation       0.00      0.00      0.00         1\n",
      "                 Food Tech for a Cleaner World - THE NEW CONTEXT CONFERENCE 2017       0.00      0.00      0.00         1\n",
      "                       Found in Translation Book Club: Moonbath by Yanick Lahens       0.00      0.00      0.00         1\n",
      "                                          Founders Space Pitch Day & Mixer SF CA       0.00      0.00      0.00         0\n",
      "                                                                       Foxfinder       1.00      1.00      1.00         8\n",
      "                              Free Yoga at SF's Best Coworking Space - The Vault       1.00      1.00      1.00         4\n",
      "                                                French Tech Hub weekly breakfast       1.00      1.00      1.00         1\n",
      "                                                             Friday Night Drinks       1.00      1.00      1.00         1\n",
      "                     Friday Night Drinks with International Travelers and Locals       0.00      0.00      0.00         1\n",
      "                          Friendly Feud - Survey Says... Don't Miss This Meetup!       1.00      1.00      1.00         2\n",
      "                                                     Friendly Feud: Survey Says-       1.00      1.00      1.00        73\n",
      "                   Friendy Feud - Survery Says...this will be an awesome Meetup!       1.00      1.00      1.00        13\n",
      " Full Moon Day Breathwork and Mediation: Breathe to connect with the Power House       1.00      1.00      1.00        15\n",
      "                                                                        Fun Home       0.97      1.00      0.99        74\n",
      "                                                   Game Of Thrones Trivia Meetup       1.00      1.00      1.00        14\n",
      "                                Game Of Thrones Trivia Night (Winter Is Coming!)       1.00      1.00      1.00         9\n",
      "                                                 Get Inspired: Prototyping night       1.00      1.00      1.00         1\n",
      "                                               Ghachar Ghochar by Vivek Shanbhag       1.00      1.00      1.00         2\n",
      "                                         Golden Gate Toastmasters Weekly Meeting       0.92      1.00      0.96        11\n",
      "                  Grand Central History Tour and Happy Hour *PRE-PAY ONLY EVENT*       0.00      0.00      0.00         0\n",
      "                                    Graphic Content Book Club: Killing and Dying       0.00      0.00      0.00         1\n",
      "                      Guest Post: Sketch & Go with Don Colley from Faber-Castell       1.00      1.00      1.00         2\n",
      "                                                    HTF 7th Annual Expo & Mingle       1.00      1.00      1.00        11\n",
      "                                      Hackaday MakeIt NYC: The Halloween Special       1.00      1.00      1.00         2\n",
      "     Halloween Dance Lesson (Thriller & More) Includes entry to Halloween Party!       0.00      0.00      0.00         0\n",
      "                                                             Halloween Goody Bag       0.00      0.00      0.00         2\n",
      " Halloween Largest Meetup Party (Open Bar, Comp Apps, DJ, Costume Prizes, Candy)       1.00      1.00      1.00         6\n",
      "                                                   Halloween Mix 'N Mingle Party       0.76      1.00      0.87        13\n",
      "   Halloween Night Scavenger Hunt (Part hunt, part obstacle course & SCARY FUN!)       1.00      1.00      1.00         2\n",
      "                                                      Hamlet-William Shakespeare       1.00      1.00      1.00       141\n",
      "                                                                      Happy Hour       1.00      1.00      1.00        12\n",
      "                     Happy Hour With NYC Breakfast Networking - $3.00 Admission!       1.00      1.00      1.00        10\n",
      "Happy Hour at Grand Central:A Casual After Work Party Discount Drinks Great Food       1.00      1.00      1.00         8\n",
      "                     Happy Hour@ Fatcat Billiards and Jazz Lounge $3.00 entrance       1.00      1.00      1.00        13\n",
      "                                                     Hop #149 Under Construction       1.00      1.00      1.00         4\n",
      "                                              How to Make Money with Your Videos       0.00      0.00      0.00         2\n",
      "                          How to Pitch?: Developing Your Potential List (Part 7)       0.84      1.00      0.91        16\n",
      "                        How to Pitch?: Establishing A Create Impression (Part 4)       0.00      0.00      0.00         1\n",
      "                            How to Pitch?: Gathering Pitching Resources (Part 2)       1.00      0.53      0.69       234\n",
      "                       How to Pitch?: The Anatomy of A Successful Pitch (Part 1)       0.68      1.00      0.81       241\n",
      "                           How to Pitch?: The Art of The Elevator Pitch (Part 5)       1.00      1.00      1.00       111\n",
      "                              How to Pitch?: The Art of The Email Pitch (Part 6)       1.00      1.00      1.00        25\n",
      "                                 How to Pitch?: What Do Investors Want? (Part 3)       1.00      1.00      1.00        17\n",
      "  Hudson Valley Fall Wineries Day Trip: 4 Wineries, Awesome Views *PRE-PAY ONLY*       1.00      1.00      1.00        10\n",
      "                ITS A WONDERFUL LIFE: LIVE IN CHICAGO! at American Blues Theater       1.00      1.00      1.00         7\n",
      "                                             Improve your public speaking skills       1.00      1.00      1.00         2\n",
      "                      In Brief Book Club: Going to Meet the Man by James Baldwin       1.00      1.00      1.00        14\n",
      "    Innovating old industries  Panel on bringing analog services to 21st century       0.00      0.00      0.00         1\n",
      "                                 Innovation in L&D: Fostering a Learning Culture       0.00      0.00      0.00         1\n",
      "                                                            Intro to 3D printing       1.00      1.00      1.00       107\n",
      "                                                        Intro to Python (Part I)       0.00      0.00      0.00         7\n",
      "                                                       Intro to Python (Part II)       0.00      0.00      0.00         1\n",
      "                                    Introduction class on Design for 3D Printing       1.00      1.00      1.00         4\n",
      "                                           Introduction to React.js Redux Basics       0.95      1.00      0.98        42\n",
      "                                                          Introduction to Vue.js       1.00      1.00      1.00        10\n",
      "    Investing strategy discussion, plus potential great stock buys for this year       1.00      1.00      1.00         8\n",
      "                                               Investor Night (To Watch Tickets)       1.00      1.00      1.00        73\n",
      "                                           JVS Welcome Session and Program Intro       0.50      1.00      0.67         1\n",
      "                       Jan: How about a FREE day trip to Mexico? Did I say FREE?       1.00      0.75      0.86         4\n",
      "                                                        Jane Austen's Persuasion       1.00      1.00      1.00         1\n",
      "                                                    Jane Eyre by Charlotte Bront       1.00      1.00      1.00         1\n",
      "      January Meetup: Lincoln in the Bardo George Saunders http://bit.ly/2vLXTbK       0.00      0.00      0.00         1\n",
      "                                                    JavaScript: The Tricky Parts       1.00      1.00      1.00         4\n",
      "                                             Job Search Accelerator Info Session       1.00      1.00      1.00        10\n",
      "                               Jonathan Swift's Modest Proposal and other essays       0.71      1.00      0.83         5\n",
      "                                                         Jonathan Swift's Poetry       1.00      1.00      1.00         1\n",
      "                                       Jordan Peterson: Top Ten Rules of Success       1.00      1.00      1.00         1\n",
      "                                                 Journey to the End of the Night       1.00      1.00      1.00         7\n",
      "                                        Juha Koponen, CEO & Co-founder, Swap.com       0.99      1.00      1.00       590\n",
      " LARGEST Halloween Meetup Party (Open Bar, Comp Apps, DJ, Costume Prizes, Candy)       1.00      1.00      1.00        68\n",
      "                                                              LAWKTOBERFEST 2017       1.00      1.00      1.00         1\n",
      "                                                       LIVE MODEL FIGURE DRAWING       1.00      1.00      1.00         5\n",
      "                                       Leadership: Managing People and Conflicts       1.00      1.00      1.00         2\n",
      "                                                 Learn Android/Smartphone Basics       1.00      1.00      1.00        14\n",
      "                       Learn How To Dance (includes admission to Hallowen Party)       0.88      1.00      0.94        15\n",
      "                                                       Learn to Use Google Drive       1.00      1.00      1.00        10\n",
      "                              Let Us Amaze You! Useful Tools for Your Job Search       1.00      1.00      1.00         8\n",
      "                                                        Let's Cowork @ Next Door       1.00      1.00      1.00         4\n",
      "                                                         Let's Play Board Games!       1.00      1.00      1.00         2\n",
      "                                             Let's Play Pool & Make New Friends!       1.00      1.00      1.00         7\n",
      "                                            Let's attend the F.A.M.E. fundraiser       1.00      1.00      1.00         6\n",
      "                                       Let's see Othello for $15 with free wine!       0.83      1.00      0.91         5\n",
      "                          Let's see THE MAKING OF A MODERN FOLK HERO & save $10!       0.93      1.00      0.97        14\n",
      "                                                          Let's see Yoni Ki Baat       1.00      1.00      1.00         1\n",
      "                                                Let's see the Korean movie Split       1.00      1.00      1.00         1\n",
      "                                                          Life Drawing Workshops       1.00      1.00      1.00        29\n",
      "                                              Life Drawing Workshops - Long Pose       1.00      1.00      1.00         2\n",
      "                                                     Life Drawing at the Oddists       1.00      1.00      1.00        23\n",
      "                                         Live Model Drawing - National Arts Club       1.00      1.00      1.00         2\n",
      "                                               Live Model Drawing - Union Square       0.80      1.00      0.89         4\n",
      "                            Live Sharks Tank Episode __ Startup Expo & VIP Party       1.00      1.00      1.00        11\n",
      "                            Live Sharks Tank Episode __ startup expo & VIP Party       0.80      1.00      0.89         4\n",
      "                             Live Sharks Tank episode _ startup expo & VIP-party       0.00      0.00      0.00         1\n",
      "          Live Sharks Tank episode with $50k in prizes, startup expo & VIP-party       1.00      1.00      1.00         5\n",
      "                                           MANHATTAN Smutty Book Club - Book TBA       1.00      1.00      1.00         3\n",
      "MANHATTAN Smutty Book Club - Shifter's Sacrifice by Lisa Ladew (One True Mate 1)       1.00      1.00      1.00         1\n",
      "                                                    MIRUS ART  COLLECTORS SERIES       1.00      1.00      1.00         5\n",
      "                                                               MONTHLY BOOK CLUB       1.00      1.00      1.00         4\n",
      "           MONTHLY PROGRAM:MONTHLY PROGRAM: Six Steps to Successful Negotiations       0.75      1.00      0.86         3\n",
      "                                         March Meetup:  Hag-Seed Margaret Atwood       0.62      1.00      0.77         5\n",
      "                                                                Marketing Meetup       1.00      1.00      1.00         1\n",
      "                                                            Mason & Dixon Part 3       0.00      0.00      0.00         1\n",
      "                                                     Master JavaScript Functions       0.00      0.00      0.00         3\n",
      "                                                  Master the Art of Presentation       1.00      1.00      1.00         2\n",
      "                                                Meet New People in San Francisco       1.00      1.00      1.00         9\n",
      "                                               Meet and Network at Fogo De Chao!       1.00      1.00      1.00         3\n",
      "                                       Meet and Network with Us at Fogo De Chao!       1.00      1.00      1.00         6\n",
      "                                                   Meet investors, present deals       1.00      1.00      1.00         4\n",
      "                  Metadata Management, LinkedIn - The Good, the Bad and the Ugly       1.00      1.00      1.00        12\n",
      "                                  Microsoft Rooftop Halloween Networking Social!       0.93      1.00      0.97        14\n",
      "Midsommer Flight Ensemble Presents Twelfth Night - Free with Online Registration       1.00      1.00      1.00         1\n",
      "                Minsky Duo (violin-piano) with special guest Jamie Lee (soprano)       1.00      1.00      1.00         1\n",
      "                                                                 Monthly Meeting       1.00      1.00      1.00         1\n",
      "                                             Monthly Smutty Book Club - Book TBA       1.00      1.00      1.00         1\n",
      "           Murder Mystery Dinner Crawl. Dine at 3 Restaurants & solve the murder       0.00      0.00      0.00         1\n",
      "                                                Murder Mystery Restaurant Crawl!       1.00      1.00      1.00        10\n",
      "      NY's Biggest Professional Networking Mixer - Entrepreneur, Tech & Business       1.00      1.00      1.00         6\n",
      "                        NYC Creative and Business Professionals Networking Party       0.00      0.00      0.00         1\n",
      "                                              NYC Gathering with Virtual Reality       0.00      0.00      0.00         1\n",
      "                                                NYC Mayoral Debate Viewing Party       0.67      1.00      0.80         2\n",
      "                             NYREIA's 17th Real Estate Investor Networking Party       1.00      1.00      1.00        15\n",
      "          NYSN Halloween Party: Games, Prizes, Drink Specials, Costumes Optional       0.00      0.00      0.00         1\n",
      "                                       NYU + City Hall Toastmasters Club Meeting       1.00      1.00      1.00         3\n",
      "                                                        NaNoWriMo Kick-Off Party       1.00      1.00      1.00        23\n",
      "                                          Name That Tune Meetup! (Shazam) Top 40       1.00      1.00      1.00       182\n",
      "                                  Navigating Communication in the U.S. Workplace       1.00      1.00      1.00         8\n",
      "                                                    Network After Work at Atwood       1.00      1.00      1.00        11\n",
      "                                               Network After Work at Lush Lounge       0.00      0.00      0.00         2\n",
      "                                  Network After Work at Moes Cantina - Cava Room       1.00      1.00      1.00        16\n",
      "                                                   Network After Work at Redford       0.91      1.00      0.95        10\n",
      "                                            Network After Work at Stock In Trade       1.00      1.00      1.00        11\n",
      "                                              Network After Work at Virgin Hotel       1.00      1.00      1.00        12\n",
      "                                       Network After Work at W Hotel - Lakeshore       1.00      1.00      1.00        11\n",
      "                                                           Network With Bernie !       1.00      1.00      1.00         2\n",
      "  New & Existing Members Welcome Mixer! (Comp Apps, Icebreakers, Drink Specials)       1.00      1.00      1.00         8\n",
      "                   New York  Founder Night Out: Network with Local Entrepreneurs       1.00      1.00      1.00        11\n",
      "                          NewFinance January FinTech Open Mic Night - Shark Tank       1.00      1.00      1.00         8\n",
      "                         Nov. 1st - Business Networking Party @ The Attic Lounge       1.00      1.00      1.00         3\n",
      "            Nov/Dec Meetup: The History of Bees Maja Lunde http://bit.ly/2f3H1TK       1.00      1.00      1.00         2\n",
      "            November 15th - Tech Start-Ups Networking Party @ WeWork Bryant Park       0.00      0.00      0.00         1\n",
      "                                                                 November Meetup       1.00      1.00      1.00       156\n",
      "                                    November Meetup -- The Marriage of Opposites       0.00      0.00      0.00         1\n",
      "                                           November NY FinTech Meetup: Demo Day!       1.00      1.00      1.00         6\n",
      "        November Special: Developing and Understanding Scans for Wyckoff Traders       0.75      1.00      0.86         3\n",
      "                           November's Girly Book Club with Founder Erin Woodward       1.00      1.00      1.00         6\n",
      "                                                    November's book club meeting       1.00      1.00      1.00        15\n",
      "                         November: The Mother of All Questions by Rebecca Solnit       0.00      0.00      0.00         1\n",
      "                                                              October  Book Club       0.43      1.00      0.60         3\n",
      "                                           October Bookcrossing Book Swap Meetup       0.00      0.00      0.00         4\n",
      "                       October Meetup: Between the World and Me Ta-Nehisi Coates       0.00      0.00      0.00         0\n",
      "     October: Witches, Sluts, Feminists: Conjuring the Sex Positive by K. Sollee       0.00      0.00      0.00         3\n",
      "                                                Of Mice and Men - John Steinbeck       0.44      1.00      0.62         4\n",
      "                    Oil Painting at The Arts Students League with Simon Levenson       0.00      0.00      0.00         2\n",
      "                                         Open Coworking Day at Free Range Office       1.00      1.00      1.00         2\n",
      "                                                                 Open Mic Night!       1.00      1.00      1.00         2\n",
      "                      PROFESSIONAL: Breakfast Roundtable for SBO & Entrepreneurs       1.00      1.00      1.00       223\n",
      "                                                       PWN Monthly Lunch & Learn       1.00      1.00      1.00        18\n",
      " Penthouse VIP Fashion Party (Drink Specials, Gourmet Cheeses, Fashion Show, DJ)       1.00      1.00      1.00         1\n",
      "                              Performative Play & the Power of Shared Narratives       0.00      0.00      0.00         1\n",
      "               Peter Durand in town to teach us Graphic Facilitation & Recording       0.00      0.00      0.00         1\n",
      "                               Play Pool & Make Friends - Billiards Social Night       1.00      1.00      1.00         4\n",
      "                   Poetry Reading with Hadara Bar-Nadav and Rebecca Morgan Frank       0.00      0.00      0.00         1\n",
      "                           Potential great stock buys and more investment topics       1.00      1.00      1.00         5\n",
      "                                               Power Networking at Joy District!       1.00      1.00      1.00         4\n",
      "                                                            Predictive marketing       1.00      1.00      1.00         4\n",
      "                                     Professionals and Executives Strategy Group       1.00      1.00      1.00         3\n",
      "                          Pumpkin Carving Class & Cocktails *PRE-PAY ONLY EVENT*       1.00      1.00      1.00         2\n",
      "                                     Purple Hibiscus by Chimamanda Ngozi Adichie       1.00      1.00      1.00         8\n",
      "                                                   Quickbooks for Small Business       1.00      1.00      1.00        10\n",
      "ROGERS PARK SCRABBLE CLUB: Volumize your vocabulary and streamline your spelling       1.00      1.00      1.00         1\n",
      "                                                    Rap & Poetry With Roy Kinsey       0.00      0.00      0.00         1\n",
      "                                       Read Everything Flows by Vasiliy Grossman       1.00      1.00      1.00         1\n",
      "                                   Read Haji Murad and After the Ball by Tolstoy       1.00      1.00      1.00        10\n",
      "                                   Read Peter and Alexis by Dmitry Merezhkhovsky       1.00      1.00      1.00         1\n",
      "                Read The Day Lasts More Than a Hundred Years by Chingiz Aitmatov       1.00      1.00      1.00         2\n",
      "                                              Read The Shooting Party by Chekhov       1.00      1.00      1.00        20\n",
      "                                                    Read Yama: The Pit by Kuprin       0.00      0.00      0.00         1\n",
      "                                  Read: The Big Green Tent by Lyudmila Ulitskaya       1.00      1.00      1.00         2\n",
      "                                      Read: The Foundation Pit by Adrei Platonov       0.00      0.00      0.00         2\n",
      "                     Recruiting Interviews for Cannabis Industry SALES Positions       1.00      1.00      1.00        49\n",
      "                                                                      Red Velvet       0.74      1.00      0.85        20\n",
      "                    Rescue Me Fireman/EMT Party. Mix & Mingle With NY's Bravest.       1.00      1.00      1.00         3\n",
      "                            Resource and Career Fair for Entrepreneurial Artists       1.00      1.00      1.00         5\n",
      "            Rise of the Jack O Lanterns on Governors Island *PRE-PAY ONLY EVENT*       1.00      1.00      1.00        50\n",
      "                                    Robotics Powered by the Open Innovation Club       1.00      1.00      1.00        12\n",
      "                    SE Manager Panel with Looker, Mixpanel, Onelogin & mParticle       1.00      1.00      1.00         2\n",
      "                                    SF Spooky Storytellers Halloween Open House!       1.00      1.00      1.00         1\n",
      "SF Storytellers Evaluation Workshop w/ 5-time Evaluation Champion Kristian Crump       1.00      1.00      1.00         2\n",
      "                                                  SF Storytellers Weekly Meeting       1.00      1.00      1.00        13\n",
      "                                                     SOLIDWORKS Meetup - SLUGME!       1.00      1.00      1.00         5\n",
      "        SQA Half-Day Seminar  on Quantitative Approaches to Retirement Planning:       1.00      1.00      1.00       150\n",
      "              STARTUP BASECAMP FREE CO-WORKING THURSDAY @ SF First Startup Hotel       1.00      1.00      1.00         9\n",
      "                              STARTUPS: Meet Investors, Present Deals @ The40/40       0.00      0.00      0.00         4\n",
      " San Francisco After Work Networking Mixer with HOOCH at TEO Restaurant 11/2 6PM       1.00      1.00      1.00         2\n",
      "         Saturday Afternoon Figure Drawing - 3 models & live music - at Monument       1.00      1.00      1.00        47\n",
      "                   Saturday Badminton @ Tony DaPolito Rec. Center 2 PM - 4:30 PM       1.00      1.00      1.00         1\n",
      "                                          Screen films for our film fest in 2017       0.83      1.00      0.91         5\n",
      "                                                          Seinfeld Trivia Meetup       1.00      1.00      1.00       526\n",
      "                                          Seinfeld Trivia Night... Hello, Jerry.       1.00      1.00      1.00         1\n",
      "\n",
      "                                                                     avg / total       0.97      0.97      0.97      7535\n",
      "\n",
      "Building complete model and saving ...\n"
     ]
    },
    {
     "name": "stdout",
     "output_type": "stream",
     "text": [
      "Complete model fit in 1452.517 seconds\n",
      "Model written out to simple_ml_op/model.pickle\n"
     ]
    }
   ],
   "source": [
    "X_training, X_Validation, Y_training, Y_validation = tts(event_X, event_Y, test_size=0.1)\n",
    "\n",
    "model = build_and_evaluate(X_training, Y_training, outpath=PATH)"
   ]
  },
  {
   "cell_type": "code",
   "execution_count": 255,
   "metadata": {},
   "outputs": [
    {
     "name": "stdout",
     "output_type": "stream",
     "text": [
      "Lifetime student. Interested primarily in learning more about music. I can teach violin, rock climbing, and programming.\n"
     ]
    }
   ],
   "source": [
    "import random\n",
    "member_bio = meetup_df.as_matrix(['bio']).ravel()\n",
    "print(random.choice(member_bio))\n"
   ]
  },
  {
   "cell_type": "code",
   "execution_count": 261,
   "metadata": {},
   "outputs": [
    {
     "name": "stdout",
     "output_type": "stream",
     "text": [
      "['December SF FinTech Demo Day!']\n"
     ]
    }
   ],
   "source": [
    "\n",
    "\n",
    "with open(PATH, 'rb') as f:\n",
    "    model = pickle.load(f)\n",
    "\n",
    "\n",
    "yhat = model.predict([random.choice(member_bio)])\n",
    "labels = LabelEncoder()\n",
    "y = labels.fit_transform(event_Y)\n",
    "print(labels.inverse_transform(yhat))\n"
   ]
  },
  {
   "cell_type": "code",
   "execution_count": 264,
   "metadata": {
    "collapsed": true
   },
   "outputs": [],
   "source": [
    "zzz = meetup_df.loc[meetup_df['bio'] == 'Lifetime student. Interested primarily in learning more about music. I can teach violin, rock climbing, and programming.']  "
   ]
  },
  {
   "cell_type": "code",
   "execution_count": 271,
   "metadata": {
    "collapsed": true
   },
   "outputs": [],
   "source": [
    "if (zzz['event_name'].any == 'December SF FinTech Demo Day!'):\n",
    "    print('sssss')"
   ]
  },
  {
   "cell_type": "code",
   "execution_count": 4,
   "metadata": {},
   "outputs": [
    {
     "ename": "AttributeError",
     "evalue": "Can't get attribute 'NLTKPreprocessor' on <module '__main__'>",
     "output_type": "error",
     "traceback": [
      "\u001b[1;31m---------------------------------------------------------------------------\u001b[0m",
      "\u001b[1;31mAttributeError\u001b[0m                            Traceback (most recent call last)",
      "\u001b[1;32m<ipython-input-4-983f4335b3b4>\u001b[0m in \u001b[0;36m<module>\u001b[1;34m()\u001b[0m\n\u001b[0;32m      1\u001b[0m \u001b[0mPATH\u001b[0m \u001b[1;33m=\u001b[0m \u001b[1;34m\"simple_ml_op/model.pickle\"\u001b[0m\u001b[1;33m\u001b[0m\u001b[0m\n\u001b[0;32m      2\u001b[0m \u001b[1;32mwith\u001b[0m \u001b[0mopen\u001b[0m\u001b[1;33m(\u001b[0m\u001b[0mPATH\u001b[0m\u001b[1;33m,\u001b[0m \u001b[1;34m'rb'\u001b[0m\u001b[1;33m)\u001b[0m \u001b[1;32mas\u001b[0m \u001b[0mf\u001b[0m\u001b[1;33m:\u001b[0m\u001b[1;33m\u001b[0m\u001b[0m\n\u001b[1;32m----> 3\u001b[1;33m     \u001b[0mmodel\u001b[0m \u001b[1;33m=\u001b[0m \u001b[0mpickle\u001b[0m\u001b[1;33m.\u001b[0m\u001b[0mload\u001b[0m\u001b[1;33m(\u001b[0m\u001b[0mf\u001b[0m\u001b[1;33m)\u001b[0m\u001b[1;33m\u001b[0m\u001b[0m\n\u001b[0m\u001b[0;32m      4\u001b[0m \u001b[1;33m\u001b[0m\u001b[0m\n\u001b[0;32m      5\u001b[0m \u001b[0my_pred\u001b[0m \u001b[1;33m=\u001b[0m \u001b[0mmodel\u001b[0m\u001b[1;33m.\u001b[0m\u001b[0mpredict\u001b[0m\u001b[1;33m(\u001b[0m\u001b[0mX_Validation\u001b[0m\u001b[1;33m)\u001b[0m\u001b[1;33m\u001b[0m\u001b[0m\n",
      "\u001b[1;31mAttributeError\u001b[0m: Can't get attribute 'NLTKPreprocessor' on <module '__main__'>"
     ]
    }
   ],
   "source": [
    "PATH = \"simple_ml_op/model.pickle\"\n",
    "with open(PATH, 'rb') as f:\n",
    "    model = pickle.load(f)\n",
    "\n",
    "y_pred = model.predict(X_Validation)\n",
    "print(clsr(Y_validation, y_pred, target_names=labels.classes_))\n",
    "    "
   ]
  },
  {
   "cell_type": "code",
   "execution_count": null,
   "metadata": {
    "collapsed": true
   },
   "outputs": [],
   "source": []
  }
 ],
 "metadata": {
  "kernelspec": {
   "display_name": "Python 3",
   "language": "python",
   "name": "python3"
  },
  "language_info": {
   "codemirror_mode": {
    "name": "ipython",
    "version": 3
   },
   "file_extension": ".py",
   "mimetype": "text/x-python",
   "name": "python",
   "nbconvert_exporter": "python",
   "pygments_lexer": "ipython3",
   "version": "3.5.4"
  }
 },
 "nbformat": 4,
 "nbformat_minor": 2
}
