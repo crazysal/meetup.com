{
 "cells": [
  {
   "cell_type": "code",
   "execution_count": 146,
   "metadata": {},
   "outputs": [
    {
     "data": {
      "text/html": [
       "<div>\n",
       "<style scoped>\n",
       "    .dataframe tbody tr th:only-of-type {\n",
       "        vertical-align: middle;\n",
       "    }\n",
       "\n",
       "    .dataframe tbody tr th {\n",
       "        vertical-align: top;\n",
       "    }\n",
       "\n",
       "    .dataframe thead th {\n",
       "        text-align: right;\n",
       "    }\n",
       "</style>\n",
       "<table border=\"1\" class=\"dataframe\">\n",
       "  <thead>\n",
       "    <tr style=\"text-align: right;\">\n",
       "      <th></th>\n",
       "      <th>member_id</th>\n",
       "      <th>bio</th>\n",
       "      <th>group_id</th>\n",
       "      <th>group_name</th>\n",
       "      <th>group_description</th>\n",
       "      <th>category_name</th>\n",
       "      <th>join_mode</th>\n",
       "      <th>members_count</th>\n",
       "      <th>group_rating</th>\n",
       "      <th>visibility</th>\n",
       "      <th>...</th>\n",
       "      <th>event_description</th>\n",
       "      <th>duration</th>\n",
       "      <th>fee_accepts</th>\n",
       "      <th>fee_amount</th>\n",
       "      <th>fee.required</th>\n",
       "      <th>yes_rsvp_count</th>\n",
       "      <th>venue_id</th>\n",
       "      <th>venue_name</th>\n",
       "      <th>venue_rating</th>\n",
       "      <th>venue_rating_count</th>\n",
       "    </tr>\n",
       "  </thead>\n",
       "  <tbody>\n",
       "    <tr>\n",
       "      <th>0</th>\n",
       "      <td>81896</td>\n",
       "      <td>Why not?</td>\n",
       "      <td>1687797</td>\n",
       "      <td>The Far Northside Co-Ed Book Club</td>\n",
       "      <td>There are several book clubs out there but the...</td>\n",
       "      <td>book clubs</td>\n",
       "      <td>open</td>\n",
       "      <td>350</td>\n",
       "      <td>4.66</td>\n",
       "      <td>public</td>\n",
       "      <td>...</td>\n",
       "      <td>Hello all - The October book will be: Between ...</td>\n",
       "      <td>10800</td>\n",
       "      <td>cash</td>\n",
       "      <td>2.0</td>\n",
       "      <td>0</td>\n",
       "      <td>20</td>\n",
       "      <td>11898</td>\n",
       "      <td>Heartland Cafe</td>\n",
       "      <td>3.79</td>\n",
       "      <td>275.0</td>\n",
       "    </tr>\n",
       "    <tr>\n",
       "      <th>1</th>\n",
       "      <td>81896</td>\n",
       "      <td>Why not?</td>\n",
       "      <td>1687797</td>\n",
       "      <td>The Far Northside Co-Ed Book Club</td>\n",
       "      <td>There are several book clubs out there but the...</td>\n",
       "      <td>book clubs</td>\n",
       "      <td>open</td>\n",
       "      <td>350</td>\n",
       "      <td>4.66</td>\n",
       "      <td>public</td>\n",
       "      <td>...</td>\n",
       "      <td>Hello all - As areminder, the November and Dec...</td>\n",
       "      <td>10800</td>\n",
       "      <td>cash</td>\n",
       "      <td>2.0</td>\n",
       "      <td>0</td>\n",
       "      <td>17</td>\n",
       "      <td>11898</td>\n",
       "      <td>Heartland Cafe</td>\n",
       "      <td>3.79</td>\n",
       "      <td>275.0</td>\n",
       "    </tr>\n",
       "    <tr>\n",
       "      <th>2</th>\n",
       "      <td>81896</td>\n",
       "      <td>Why not?</td>\n",
       "      <td>1687797</td>\n",
       "      <td>The Far Northside Co-Ed Book Club</td>\n",
       "      <td>There are several book clubs out there but the...</td>\n",
       "      <td>book clubs</td>\n",
       "      <td>open</td>\n",
       "      <td>350</td>\n",
       "      <td>4.66</td>\n",
       "      <td>public</td>\n",
       "      <td>...</td>\n",
       "      <td>Hello all - The January book will be: Lincoln ...</td>\n",
       "      <td>10800</td>\n",
       "      <td>cash</td>\n",
       "      <td>2.0</td>\n",
       "      <td>0</td>\n",
       "      <td>17</td>\n",
       "      <td>11898</td>\n",
       "      <td>Heartland Cafe</td>\n",
       "      <td>3.79</td>\n",
       "      <td>275.0</td>\n",
       "    </tr>\n",
       "    <tr>\n",
       "      <th>3</th>\n",
       "      <td>81896</td>\n",
       "      <td>Why not?</td>\n",
       "      <td>1687797</td>\n",
       "      <td>The Far Northside Co-Ed Book Club</td>\n",
       "      <td>There are several book clubs out there but the...</td>\n",
       "      <td>book clubs</td>\n",
       "      <td>open</td>\n",
       "      <td>350</td>\n",
       "      <td>4.66</td>\n",
       "      <td>public</td>\n",
       "      <td>...</td>\n",
       "      <td>Hello all - The February book will be: The Min...</td>\n",
       "      <td>10800</td>\n",
       "      <td>cash</td>\n",
       "      <td>2.0</td>\n",
       "      <td>0</td>\n",
       "      <td>15</td>\n",
       "      <td>11898</td>\n",
       "      <td>Heartland Cafe</td>\n",
       "      <td>3.79</td>\n",
       "      <td>275.0</td>\n",
       "    </tr>\n",
       "    <tr>\n",
       "      <th>4</th>\n",
       "      <td>81896</td>\n",
       "      <td>Why not?</td>\n",
       "      <td>1687797</td>\n",
       "      <td>The Far Northside Co-Ed Book Club</td>\n",
       "      <td>There are several book clubs out there but the...</td>\n",
       "      <td>book clubs</td>\n",
       "      <td>open</td>\n",
       "      <td>350</td>\n",
       "      <td>4.66</td>\n",
       "      <td>public</td>\n",
       "      <td>...</td>\n",
       "      <td>Hello all - The March book will be: Hag-Seed M...</td>\n",
       "      <td>10800</td>\n",
       "      <td>cash</td>\n",
       "      <td>2.0</td>\n",
       "      <td>0</td>\n",
       "      <td>14</td>\n",
       "      <td>11898</td>\n",
       "      <td>Heartland Cafe</td>\n",
       "      <td>3.79</td>\n",
       "      <td>275.0</td>\n",
       "    </tr>\n",
       "  </tbody>\n",
       "</table>\n",
       "<p>5 rows × 23 columns</p>\n",
       "</div>"
      ],
      "text/plain": [
       "   member_id       bio  group_id                         group_name  \\\n",
       "0      81896  Why not?   1687797  The Far Northside Co-Ed Book Club   \n",
       "1      81896  Why not?   1687797  The Far Northside Co-Ed Book Club   \n",
       "2      81896  Why not?   1687797  The Far Northside Co-Ed Book Club   \n",
       "3      81896  Why not?   1687797  The Far Northside Co-Ed Book Club   \n",
       "4      81896  Why not?   1687797  The Far Northside Co-Ed Book Club   \n",
       "\n",
       "                                   group_description category_name join_mode  \\\n",
       "0  There are several book clubs out there but the...    book clubs      open   \n",
       "1  There are several book clubs out there but the...    book clubs      open   \n",
       "2  There are several book clubs out there but the...    book clubs      open   \n",
       "3  There are several book clubs out there but the...    book clubs      open   \n",
       "4  There are several book clubs out there but the...    book clubs      open   \n",
       "\n",
       "   members_count  group_rating visibility         ...          \\\n",
       "0            350          4.66     public         ...           \n",
       "1            350          4.66     public         ...           \n",
       "2            350          4.66     public         ...           \n",
       "3            350          4.66     public         ...           \n",
       "4            350          4.66     public         ...           \n",
       "\n",
       "                                   event_description duration fee_accepts  \\\n",
       "0  Hello all - The October book will be: Between ...    10800        cash   \n",
       "1  Hello all - As areminder, the November and Dec...    10800        cash   \n",
       "2  Hello all - The January book will be: Lincoln ...    10800        cash   \n",
       "3  Hello all - The February book will be: The Min...    10800        cash   \n",
       "4  Hello all - The March book will be: Hag-Seed M...    10800        cash   \n",
       "\n",
       "  fee_amount  fee.required yes_rsvp_count  venue_id      venue_name  \\\n",
       "0        2.0             0             20     11898  Heartland Cafe   \n",
       "1        2.0             0             17     11898  Heartland Cafe   \n",
       "2        2.0             0             17     11898  Heartland Cafe   \n",
       "3        2.0             0             15     11898  Heartland Cafe   \n",
       "4        2.0             0             14     11898  Heartland Cafe   \n",
       "\n",
       "   venue_rating  venue_rating_count  \n",
       "0          3.79               275.0  \n",
       "1          3.79               275.0  \n",
       "2          3.79               275.0  \n",
       "3          3.79               275.0  \n",
       "4          3.79               275.0  \n",
       "\n",
       "[5 rows x 23 columns]"
      ]
     },
     "execution_count": 146,
     "metadata": {},
     "output_type": "execute_result"
    }
   ],
   "source": [
    "import csv\n",
    "import numpy as np\n",
    "import pandas as pd\n",
    "import gc\n",
    "gc.collect()\n",
    "df = pd.read_csv(\"meetup_sane.csv\", encoding='utf-8')\n",
    "df.head()\n"
   ]
  },
  {
   "cell_type": "code",
   "execution_count": 170,
   "metadata": {
    "collapsed": true
   },
   "outputs": [],
   "source": [
    "def subtract(a,b=0):\n",
    "    return a-b"
   ]
  },
  {
   "cell_type": "code",
   "execution_count": 165,
   "metadata": {},
   "outputs": [
    {
     "data": {
      "text/plain": [
       "-2"
      ]
     },
     "execution_count": 165,
     "metadata": {},
     "output_type": "execute_result"
    }
   ],
   "source": [
    "subtract(3,5)"
   ]
  },
  {
   "cell_type": "code",
   "execution_count": null,
   "metadata": {
    "collapsed": true
   },
   "outputs": [],
   "source": []
  },
  {
   "cell_type": "code",
   "execution_count": 148,
   "metadata": {
    "collapsed": true
   },
   "outputs": [],
   "source": [
    "data = pd.DataFrame(data={'A': [0, 0, 1], 'B': [0, 1, 0], 'C': [1, 1, 0]})"
   ]
  },
  {
   "cell_type": "code",
   "execution_count": 149,
   "metadata": {
    "scrolled": true
   },
   "outputs": [
    {
     "data": {
      "text/html": [
       "<div>\n",
       "<style scoped>\n",
       "    .dataframe tbody tr th:only-of-type {\n",
       "        vertical-align: middle;\n",
       "    }\n",
       "\n",
       "    .dataframe tbody tr th {\n",
       "        vertical-align: top;\n",
       "    }\n",
       "\n",
       "    .dataframe thead th {\n",
       "        text-align: right;\n",
       "    }\n",
       "</style>\n",
       "<table border=\"1\" class=\"dataframe\">\n",
       "  <thead>\n",
       "    <tr style=\"text-align: right;\">\n",
       "      <th></th>\n",
       "      <th>category_name</th>\n",
       "      <th>join_mode</th>\n",
       "      <th>members_count</th>\n",
       "      <th>group_rating</th>\n",
       "      <th>event_id</th>\n",
       "      <th>duration</th>\n",
       "      <th>fee_accepts</th>\n",
       "      <th>fee.required</th>\n",
       "      <th>yes_rsvp_count</th>\n",
       "      <th>venue_id</th>\n",
       "      <th>venue_rating</th>\n",
       "    </tr>\n",
       "  </thead>\n",
       "  <tbody>\n",
       "    <tr>\n",
       "      <th>0</th>\n",
       "      <td>book clubs</td>\n",
       "      <td>open</td>\n",
       "      <td>350</td>\n",
       "      <td>4.66</td>\n",
       "      <td>240554090</td>\n",
       "      <td>10800</td>\n",
       "      <td>cash</td>\n",
       "      <td>0</td>\n",
       "      <td>20</td>\n",
       "      <td>11898</td>\n",
       "      <td>3.79</td>\n",
       "    </tr>\n",
       "    <tr>\n",
       "      <th>1</th>\n",
       "      <td>book clubs</td>\n",
       "      <td>open</td>\n",
       "      <td>350</td>\n",
       "      <td>4.66</td>\n",
       "      <td>243502242</td>\n",
       "      <td>10800</td>\n",
       "      <td>cash</td>\n",
       "      <td>0</td>\n",
       "      <td>17</td>\n",
       "      <td>11898</td>\n",
       "      <td>3.79</td>\n",
       "    </tr>\n",
       "    <tr>\n",
       "      <th>2</th>\n",
       "      <td>book clubs</td>\n",
       "      <td>open</td>\n",
       "      <td>350</td>\n",
       "      <td>4.66</td>\n",
       "      <td>243502265</td>\n",
       "      <td>10800</td>\n",
       "      <td>cash</td>\n",
       "      <td>0</td>\n",
       "      <td>17</td>\n",
       "      <td>11898</td>\n",
       "      <td>3.79</td>\n",
       "    </tr>\n",
       "    <tr>\n",
       "      <th>3</th>\n",
       "      <td>book clubs</td>\n",
       "      <td>open</td>\n",
       "      <td>350</td>\n",
       "      <td>4.66</td>\n",
       "      <td>243502290</td>\n",
       "      <td>10800</td>\n",
       "      <td>cash</td>\n",
       "      <td>0</td>\n",
       "      <td>15</td>\n",
       "      <td>11898</td>\n",
       "      <td>3.79</td>\n",
       "    </tr>\n",
       "    <tr>\n",
       "      <th>4</th>\n",
       "      <td>book clubs</td>\n",
       "      <td>open</td>\n",
       "      <td>350</td>\n",
       "      <td>4.66</td>\n",
       "      <td>243502311</td>\n",
       "      <td>10800</td>\n",
       "      <td>cash</td>\n",
       "      <td>0</td>\n",
       "      <td>14</td>\n",
       "      <td>11898</td>\n",
       "      <td>3.79</td>\n",
       "    </tr>\n",
       "  </tbody>\n",
       "</table>\n",
       "</div>"
      ],
      "text/plain": [
       "  category_name join_mode  members_count  group_rating   event_id  duration  \\\n",
       "0    book clubs      open            350          4.66  240554090     10800   \n",
       "1    book clubs      open            350          4.66  243502242     10800   \n",
       "2    book clubs      open            350          4.66  243502265     10800   \n",
       "3    book clubs      open            350          4.66  243502290     10800   \n",
       "4    book clubs      open            350          4.66  243502311     10800   \n",
       "\n",
       "  fee_accepts  fee.required  yes_rsvp_count  venue_id  venue_rating  \n",
       "0        cash             0              20     11898          3.79  \n",
       "1        cash             0              17     11898          3.79  \n",
       "2        cash             0              17     11898          3.79  \n",
       "3        cash             0              15     11898          3.79  \n",
       "4        cash             0              14     11898          3.79  "
      ]
     },
     "execution_count": 149,
     "metadata": {},
     "output_type": "execute_result"
    }
   ],
   "source": [
    "reduced_df = reader.drop(['member_id', 'bio', 'group_id', 'group_name','visibility','fee_amount', 'event_description', 'venue_rating_count', 'event_description', 'venue_name', 'event_name', 'organizer_id', 'group_description'], axis=1)\n",
    "reduced_df.head()"
   ]
  },
  {
   "cell_type": "code",
   "execution_count": 173,
   "metadata": {
    "collapsed": true
   },
   "outputs": [],
   "source": [
    "#Subtract column values for each row\n",
    "new_list=[]"
   ]
  },
  {
   "cell_type": "code",
   "execution_count": 174,
   "metadata": {
    "collapsed": true
   },
   "outputs": [],
   "source": [
    "for i in range(1,len(df)):\n",
    "    new_list.append(df['members_count'].iloc[i]-df['members_count'].iloc[i-1])\n",
    "    "
   ]
  },
  {
   "cell_type": "code",
   "execution_count": 175,
   "metadata": {},
   "outputs": [
    {
     "data": {
      "text/plain": [
       "37674"
      ]
     },
     "execution_count": 175,
     "metadata": {},
     "output_type": "execute_result"
    }
   ],
   "source": [
    "len(new_list)"
   ]
  },
  {
   "cell_type": "code",
   "execution_count": 176,
   "metadata": {
    "collapsed": true
   },
   "outputs": [],
   "source": [
    "#reduced_df['members_count'].rolling(window=2).apply(lambda x: x-x[0])"
   ]
  },
  {
   "cell_type": "code",
   "execution_count": 177,
   "metadata": {
    "collapsed": true
   },
   "outputs": [],
   "source": [
    "#series_dic={}\n",
    "#for i in range(len(reduced_df)):\n",
    "#    series_dic[i]=reduced_df['members_count']-reduced_df['members_count'].loc[i]\n",
    "#len(series_dic.keys())\n",
    "#new_df=pd.DataFrame(series_dic)"
   ]
  },
  {
   "cell_type": "code",
   "execution_count": 78,
   "metadata": {},
   "outputs": [
    {
     "data": {
      "text/plain": [
       "[['category_name'],\n",
       " ['join_mode'],\n",
       " ['members_count'],\n",
       " ['group_rating'],\n",
       " ['duration'],\n",
       " ['fee_accepts'],\n",
       " ['fee_required'],\n",
       " ['yes_rsvp'],\n",
       " ['venue_id'],\n",
       " ['venue_rating'],\n",
       " ['event_id']]"
      ]
     },
     "execution_count": 78,
     "metadata": {},
     "output_type": "execute_result"
    }
   ],
   "source": [
    "features = [['category_name'],['join_mode'],['members_count'],['group_rating'],['duration'],['fee_accepts'],['fee_required'],['yes_rsvp'],['venue_id'],['venue_rating'],['event_id']  ]\n",
    "features"
   ]
  },
  {
   "cell_type": "code",
   "execution_count": null,
   "metadata": {
    "collapsed": true
   },
   "outputs": [],
   "source": []
  },
  {
   "cell_type": "code",
   "execution_count": 79,
   "metadata": {},
   "outputs": [
    {
     "data": {
      "text/plain": [
       "OrderedDict([('book clubs', 1)])"
      ]
     },
     "execution_count": 79,
     "metadata": {},
     "output_type": "execute_result"
    }
   ],
   "source": [
    "from collections import OrderedDict\n",
    "f1 = OrderedDict()\n",
    "f1[reduced_df['category_name'][0]] = 1 \n",
    "f1"
   ]
  },
  {
   "cell_type": "code",
   "execution_count": 80,
   "metadata": {
    "collapsed": true
   },
   "outputs": [],
   "source": [
    "def populate_feature_array(column, order_dict, feat_arr, key):\n",
    "    for x in column:\n",
    "        if x in order_dict:\n",
    "            feat_arr[key].append(order_dict[x])\n",
    "        else:\n",
    "            lst_key = list(order_dict.keys())[-1]\n",
    "            val = order_dict[lst_key] + 1 \n",
    "            feat_arr[key].append(val)\n",
    "            order_dict[x] = val\n",
    "            \n",
    "    return feat_arr"
   ]
  },
  {
   "cell_type": "code",
   "execution_count": 81,
   "metadata": {
    "collapsed": true
   },
   "outputs": [],
   "source": [
    "features = populate_feature_array(reduced_df['category_name'], f1, features, 0)"
   ]
  },
  {
   "cell_type": "code",
   "execution_count": 82,
   "metadata": {
    "collapsed": true
   },
   "outputs": [],
   "source": [
    "f2 = OrderedDict()\n",
    "f2[reduced_df['join_mode'][0]] = 1 \n",
    "features = populate_feature_array(reduced_df['join_mode'], f2, features, 1)"
   ]
  },
  {
   "cell_type": "code",
   "execution_count": 83,
   "metadata": {
    "collapsed": true
   },
   "outputs": [],
   "source": [
    "f3 = OrderedDict()\n",
    "f3[reduced_df['duration'][0]] = 1 \n",
    "features = populate_feature_array(reduced_df['duration'], f3, features, 4)"
   ]
  },
  {
   "cell_type": "code",
   "execution_count": 84,
   "metadata": {
    "collapsed": true
   },
   "outputs": [],
   "source": [
    "f4 = OrderedDict()\n",
    "f4[reduced_df['fee_accepts'][0]] = 1 \n",
    "features = populate_feature_array(reduced_df['fee_accepts'], f4, features, 5)"
   ]
  },
  {
   "cell_type": "code",
   "execution_count": 85,
   "metadata": {
    "collapsed": true
   },
   "outputs": [],
   "source": [
    "f5 = OrderedDict()\n",
    "f5[reduced_df['fee.required'][0]] = 1 \n",
    "features = populate_feature_array(reduced_df['fee.required'], f5, features, 6)"
   ]
  },
  {
   "cell_type": "code",
   "execution_count": 86,
   "metadata": {
    "collapsed": true
   },
   "outputs": [],
   "source": [
    "f6 = OrderedDict()\n",
    "f6[reduced_df['yes_rsvp_count'][0]] = 1 \n",
    "features = populate_feature_array(reduced_df['yes_rsvp_count'], f6, features, 7)"
   ]
  },
  {
   "cell_type": "code",
   "execution_count": 87,
   "metadata": {
    "collapsed": true
   },
   "outputs": [],
   "source": [
    "f7 = OrderedDict()\n",
    "f7[reduced_df['venue_id'][0]] = 1 \n",
    "features = populate_feature_array(reduced_df['venue_id'], f7, features, 8)"
   ]
  },
  {
   "cell_type": "code",
   "execution_count": 88,
   "metadata": {
    "collapsed": true
   },
   "outputs": [],
   "source": [
    "f8 = OrderedDict()\n",
    "f8[reduced_df['members_count'][0]] = 1 \n",
    "features = populate_feature_array(reduced_df['members_count'], f8, features, 2)"
   ]
  },
  {
   "cell_type": "code",
   "execution_count": 89,
   "metadata": {
    "collapsed": true
   },
   "outputs": [],
   "source": [
    "f9 = OrderedDict()\n",
    "f9[reduced_df['group_rating'][0]] = 1 \n",
    "features = populate_feature_array(reduced_df['group_rating'], f9, features, 3)"
   ]
  },
  {
   "cell_type": "code",
   "execution_count": 90,
   "metadata": {
    "collapsed": true
   },
   "outputs": [],
   "source": [
    "f10 = OrderedDict()\n",
    "f10[reduced_df['venue_rating'][0]] = 1 \n",
    "features = populate_feature_array(reduced_df['venue_rating'], f10, features, 9)"
   ]
  },
  {
   "cell_type": "code",
   "execution_count": 91,
   "metadata": {
    "collapsed": true
   },
   "outputs": [],
   "source": [
    "f11 = OrderedDict()\n",
    "f11[reduced_df['event_id'][0]] = 1 \n",
    "features = populate_feature_array(reduced_df['event_id'], f11, features, 10)"
   ]
  },
  {
   "cell_type": "code",
   "execution_count": 96,
   "metadata": {
    "collapsed": true
   },
   "outputs": [],
   "source": [
    "reduced_df.to_csv('feature_input.csv', index=False, header=True)"
   ]
  },
  {
   "cell_type": "code",
   "execution_count": 97,
   "metadata": {
    "collapsed": true
   },
   "outputs": [],
   "source": [
    "from pgmpy.models import BayesianModel\n",
    "\n",
    "meetup_model = BayesianModel([('category_name', 'join_mode'), \n",
    "                              ('join_mode', 'fee_accepts'),\n",
    "                              ('join_mode', 'fee_required'),\n",
    "                              ('venue_id', 'yes_rsvp'),\n",
    "                              ('yes_rsvp', 'group_rating'),\n",
    "                              ('members_count', 'fee_required'),\n",
    "                              ('members_count', 'group_rating'),\n",
    "                             ('group_rating', 'venue_rating'),\n",
    "                             ('venue_rating', 'event_id'),\n",
    "                             ('group_rating', 'event_id'),\n",
    "                             ('duration', 'event_id')])"
   ]
  },
  {
   "cell_type": "code",
   "execution_count": null,
   "metadata": {
    "collapsed": true
   },
   "outputs": [],
   "source": []
  },
  {
   "cell_type": "code",
   "execution_count": 98,
   "metadata": {
    "collapsed": true,
    "scrolled": true
   },
   "outputs": [],
   "source": [
    "data_for_bn = pd.DataFrame(data={features[0][0]: features[0][1:],\n",
    "                         features[1][0]: features[1][1:],\n",
    "                          features[2][0]: features[2][1:],\n",
    "                          features[3][0]: features[3][1:],\n",
    "                          features[4][0]: features[4][1:],\n",
    "                          features[5][0]: features[5][1:],\n",
    "                          features[6][0]: features[6][1:],\n",
    "                          features[7][0]: features[7][1:],\n",
    "                          features[8][0]: features[8][1:],\n",
    "                          features[9][0]: features[9][1:],\n",
    "                          features[10][0]: features[10][1:]    \n",
    "                         })\n",
    "data_for_bn\n",
    "#Entire anbove data is causing memory problem\n",
    "reduced_data = data_for_bn[0:2000][:]"
   ]
  },
  {
   "cell_type": "code",
   "execution_count": 99,
   "metadata": {
    "collapsed": true
   },
   "outputs": [],
   "source": [
    "meetup_model.fit(reduced_data)"
   ]
  },
  {
   "cell_type": "code",
   "execution_count": 143,
   "metadata": {},
   "outputs": [
    {
     "data": {
      "text/plain": [
       "[<TabularCPD representing P(category_name:3) at 0x1a165d1c50>,\n",
       " <TabularCPD representing P(duration:15) at 0x1a14e0be10>,\n",
       " <TabularCPD representing P(event_id:159 | duration:15, group_rating:51, venue_rating:42) at 0x1a1d8860d0>,\n",
       " <TabularCPD representing P(fee_accepts:4 | join_mode:2) at 0x1a1d886510>,\n",
       " <TabularCPD representing P(fee_required:2 | join_mode:2, members_count:91) at 0x109d48250>,\n",
       " <TabularCPD representing P(group_rating:51 | members_count:91, yes_rsvp:47) at 0x109c96890>,\n",
       " <TabularCPD representing P(join_mode:2 | category_name:3) at 0x1a1dd93650>,\n",
       " <TabularCPD representing P(members_count:91) at 0x1a14e0bc10>,\n",
       " <TabularCPD representing P(venue_id:80) at 0x1a14e0b310>,\n",
       " <TabularCPD representing P(venue_rating:42 | group_rating:51) at 0x1a1d8863d0>,\n",
       " <TabularCPD representing P(yes_rsvp:47 | venue_id:80) at 0x10f7e2c50>]"
      ]
     },
     "execution_count": 143,
     "metadata": {},
     "output_type": "execute_result"
    }
   ],
   "source": [
    "mp_cpds = meetup_model.get_cpds()\n",
    "mp_cpds"
   ]
  },
  {
   "cell_type": "code",
   "execution_count": 144,
   "metadata": {},
   "outputs": [
    {
     "data": {
      "text/plain": [
       "True"
      ]
     },
     "execution_count": 144,
     "metadata": {},
     "output_type": "execute_result"
    }
   ],
   "source": [
    "meetup_model.check_model()"
   ]
  },
  {
   "cell_type": "code",
   "execution_count": 145,
   "metadata": {
    "collapsed": true
   },
   "outputs": [],
   "source": [
    "#Calculating cpds for each feature\n",
    "mp1_cpd = mp_cpds[0].get_values()\n",
    "mp2_cpd = mp_cpds[1].get_values()\n",
    "mp3_cpd = mp_cpds[2].get_values()\n",
    "mp4_cpd = mp_cpds[3].get_values()\n",
    "mp5_cpd = mp_cpds[4].get_values()\n",
    "mp6_cpd = mp_cpds[5].get_values()\n",
    "mp7_cpd = mp_cpds[6].get_values()\n",
    "mp8_cpd = mp_cpds[7].get_values()\n",
    "mp9_cpd = mp_cpds[8].get_values()\n",
    "mp10_cpd = mp_cpds[9].get_values()\n",
    "mp11_cpd = mp_cpds[10].get_values()\n"
   ]
  },
  {
   "cell_type": "code",
   "execution_count": null,
   "metadata": {
    "collapsed": true
   },
   "outputs": [],
   "source": []
  },
  {
   "cell_type": "code",
   "execution_count": null,
   "metadata": {
    "collapsed": true
   },
   "outputs": [],
   "source": []
  }
 ],
 "metadata": {
  "kernelspec": {
   "display_name": "Python 3",
   "language": "python",
   "name": "python3"
  },
  "language_info": {
   "codemirror_mode": {
    "name": "ipython",
    "version": 3
   },
   "file_extension": ".py",
   "mimetype": "text/x-python",
   "name": "python",
   "nbconvert_exporter": "python",
   "pygments_lexer": "ipython3",
   "version": "3.5.4"
  }
 },
 "nbformat": 4,
 "nbformat_minor": 2
}
